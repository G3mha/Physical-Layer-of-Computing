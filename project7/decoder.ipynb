{
 "cells": [
  {
   "cell_type": "markdown",
   "metadata": {},
   "source": [
    "# Instructions\n",
    "\n",
    "### Objective: acquire an audio that is currently playing and decode it to the corresponding number in the DTMF keyboard (from 0 to 9).\n",
    "\n",
    "1º Step: after declaring the standard params, calculate the amount of samples that be acquired during the recording. You must use the sampling rate and the recording duration for that.\n",
    "\n",
    "2º Step: print a warning message informing the recording will start in `n` seconds, then use a `time.sleep` to wait that amount of time.\n",
    "\n",
    "3º Step: \n",
    "\n",
    "4º Step: \n",
    "\n",
    "Obs1: \n",
    "\n",
    "Obs2: "
   ]
  },
  {
   "cell_type": "code",
   "execution_count": 16,
   "metadata": {},
   "outputs": [],
   "source": [
    "from suaBibSignal import *\n",
    "import peakutils # possible turn-arounds: ```from detect_peaks import *``` or ```import pickle```\n",
    "import numpy as np\n",
    "import sounddevice as sd\n",
    "import matplotlib.pyplot as plt\n",
    "import time"
   ]
  },
  {
   "cell_type": "code",
   "execution_count": 17,
   "metadata": {},
   "outputs": [
    {
     "name": "stdout",
     "output_type": "stream",
     "text": [
      "Starting decoder\n",
      "Generating base tones\n"
     ]
    }
   ],
   "source": [
    "print('Starting decoder\\nGenerating base tones')\n",
    "signal = signalMeu() # makes an instance of the class used to generate the signal\n",
    "sd.default.samplerate = 1 # default sampling rate (Hz)\n",
    "sd.default.channels = 2 # tipically the sound boards are 2 channeled (when recording, it will return two lists). If doenst work, try with 1\n",
    "duration = 10 # a little longer than the time that the signal is being played\n",
    "frequency_table = [[941, 1336],[697, 1209],[697, 1336],[697, 1477],[770, 1209],[770, 1336],[770, 1477],[852, 1209],[852, 1336],[852, 1477]] # list of corresponding frequencies for each number in DMTF table\n",
    "sampling_rate = 44100 # true sampling rate (Hz)\n",
    "samples_amount = duration * sampling_rate # number of samples to be recorded"
   ]
  },
  {
   "cell_type": "code",
   "execution_count": 18,
   "metadata": {},
   "outputs": [
    {
     "name": "stdout",
     "output_type": "stream",
     "text": [
      "Starting recording in 5 seconds\n",
      "Recording...\n",
      "...Recording finished\n"
     ]
    }
   ],
   "source": [
    "time2prepare = 5 # time to prepare the recording\n",
    "print(f'Starting recording in {time2prepare} seconds')\n",
    "time.sleep(time2prepare)\n",
    "print('Recording...')\n",
    "audio = sd.rec(samples_amount, sampling_rate, channels=1) # records the audio\n",
    "sd.wait() # waits for the recording to finish\n",
    "print(\"...Recording finished\")\n",
    "with open('audio_sample.txt', 'w') as f:\n",
    "    for row in audio:\n",
    "        f.write(str(row))\n",
    "        f.write('\\n')"
   ]
  },
  {
   "cell_type": "code",
   "execution_count": null,
   "metadata": {},
   "outputs": [],
   "source": [
    "# #analise sua variavel \"audio\". pode ser um vetor com 1 ou 2 colunas, lista, isso dependerá so seu sistema, drivers etc...\n",
    "# #extraia a parte que interessa da gravação (as amostras) gravando em uma variável \"dados\". Isso porque a variável audio pode conter dois canais e outas informações). \n",
    "\n",
    "# # use a funcao linspace e crie o vetor tempo. Um instante correspondente a cada amostra!\n",
    "\n",
    "# # plot do áudio gravado (dados) vs tempo! Não plote todos os pontos, pois verá apenas uma mancha (freq altas) . \n",
    "    \n",
    "# ## Calcule e plote o Fourier do sinal audio. como saida tem-se a amplitude e as frequencias\n",
    "# xf, yf = signal.calcFFT(y, fs)\n",
    "\n",
    "# #agora, voce tem os picos da transformada, que te informam quais sao as frequencias mais presentes no sinal. Alguns dos picos devem ser correspondentes às frequencias do DTMF!\n",
    "# #Para descobrir a tecla pressionada, voce deve extrair os picos e compara-los à tabela DTMF\n",
    "# #Provavelmente, se tudo deu certo, 2 picos serao PRÓXIMOS aos valores da tabela. Os demais serão picos de ruídos.\n",
    "\n",
    "# # para extrair os picos, voce deve utilizar a funcao peakutils.indexes(,,)\n",
    "# # Essa funcao possui como argumentos dois parâmetros importantes: \"thres\" e \"min_dist\".\n",
    "# # \"thres\" determina a sensibilidade da funcao, ou seja, quao elevado tem que ser o valor do pico para de fato ser considerado um pico\n",
    "# #\"min_dist\" é relatico tolerancia. Ele determina quao próximos 2 picos identificados podem estar, ou seja, se a funcao indentificar um pico na posicao 200, por exemplo, só identificara outro a partir do 200+min_dis. Isso evita que varios picos sejam identificados em torno do 200, uma vez que todos sejam provavelmente resultado de pequenas variações de uma unica frequencia a ser identificada.   \n",
    "# # Comece com os valores:\n",
    "# index = peakutils.indexes(yf, thres=0.4, min_dist=50)\n",
    "# print(\"index de picos {}\" .format(index)) #yf é o resultado da transformada de fourier\n",
    "\n",
    "# #printe os picos encontrados! \n",
    "# # Aqui você deverá tomar o seguinte cuidado: A funcao  peakutils.indexes retorna as POSICOES dos picos. Não os valores das frequências onde ocorrem! Pense a respeito\n",
    "\n",
    "# #encontre na tabela duas frequencias proximas às frequencias de pico encontradas e descubra qual foi a tecla\n",
    "# #print o valor tecla!!!\n",
    "# #Se acertou, parabens! Voce construiu um sistema DTMF\n",
    "\n",
    "# #Você pode tentar também identificar a tecla de um telefone real! Basta gravar o som emitido pelo seu celular ao pressionar uma tecla. \n",
    "\n",
    "    \n",
    "# ## Exiba gráficos do fourier do som gravados \n",
    "# plt.show()\n",
    "\n"
   ]
  }
 ],
 "metadata": {
  "kernelspec": {
   "display_name": "Python 3.10.6 ('venv': venv)",
   "language": "python",
   "name": "python3"
  },
  "language_info": {
   "codemirror_mode": {
    "name": "ipython",
    "version": 3
   },
   "file_extension": ".py",
   "mimetype": "text/x-python",
   "name": "python",
   "nbconvert_exporter": "python",
   "pygments_lexer": "ipython3",
   "version": "3.10.6"
  },
  "orig_nbformat": 4,
  "vscode": {
   "interpreter": {
    "hash": "3aade21a66c08c21627225540b1ce8f119e2000a8c150aae8b98a0cf3cc09c7d"
   }
  }
 },
 "nbformat": 4,
 "nbformat_minor": 2
}
